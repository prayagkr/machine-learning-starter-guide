{
 "cells": [
  {
   "cell_type": "markdown",
   "metadata": {},
   "source": [
    "### Basic Stats - Beginner\n",
    "\n",
    "### Probability\n",
    "1. Introduction to Basic terms\n",
    "2. Variables\n",
    "3. Random variables\n",
    "4. Population, Sample, Population mean, Sample mean\n",
    "5. Population Distribution, Sample Distribution and Sampling Distribution\n",
    "6. Mean, median, mode\n",
    "7. Range\n",
    "8. Measuer of Dispersion\n",
    "9. Variance\n",
    "10. Standard deviation\n",
    "11. Gausian/Normal Distribution"
   ]
  },
  {
   "cell_type": "markdown",
   "metadata": {},
   "source": [
    "### Intermediate Stats\n",
    "\n",
    "12. Standard Normal Distribution\n",
    "13. Z Score\n",
    "14. Probability Density Function\n",
    "15. Cumulative distribution function\n",
    "16. Hypothesis Testing\n",
    "17. Many different plotting graph\n",
    "18. Kernal Density Estimation (KDE)\n",
    "19. Central Limit Theorem\n",
    "20. Skewness of Data\n",
    "21. Covariance\n",
    "22. Pearson Correlation Coefficient\n",
    "23. Spearman rank Correlation\n",
    "24. Hypothesis Testing"
   ]
  },
  {
   "cell_type": "markdown",
   "metadata": {},
   "source": [
    "### Advanced Stats\n",
    "\n",
    "21. Q-Q Plot\n",
    "22. Chebyshev's inequality\n",
    "23. Discrete and Continious Distribution\n",
    "24. Bernaoulli and Binomial Distribution\n",
    "25. Log Normal Distribution\n",
    "26. Power Law Distribution\n",
    "27. Box Cox Transform\n",
    "28. Poission Distribution\n",
    "29. Application of Non Gaussian Distribution"
   ]
  }
 ],
 "metadata": {
  "kernelspec": {
   "display_name": "Python 3",
   "language": "python",
   "name": "python3"
  },
  "language_info": {
   "codemirror_mode": {
    "name": "ipython",
    "version": 3
   },
   "file_extension": ".py",
   "mimetype": "text/x-python",
   "name": "python",
   "nbconvert_exporter": "python",
   "pygments_lexer": "ipython3",
   "version": "3.8.3"
  }
 },
 "nbformat": 4,
 "nbformat_minor": 4
}
